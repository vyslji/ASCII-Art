{
 "cells": [
  {
   "cell_type": "markdown",
   "metadata": {},
   "source": [
    "# Semestrální projekt KGI/PRODA\n",
    " ## Převod obrazu na ASCII Art"
   ]
  },
  {
   "cell_type": "markdown",
   "metadata": {},
   "source": [
    "Nejprve musíme importovat knihovny\n",
    "PIL (Python Imaging Library):\n",
    "- **Image:** Tato knihovna poskytuje schopnost otevírat, vytvářet a manipulovat s různými formáty obrázků. Ve vašem kódu se využívá k otevření obrázku, jeho zpracování a uložení.\n",
    "- **ImageDraw:** Tato knihovna umožňuje kreslit na obrázek vytvořený pomocí PIL. Používá se k vykreslení textu na obrázek.\n",
    "- **ImageFont:** Slouží k načítání fontů pro použití s PIL. Vaše aplikace používá tento modul k načtení fontu, který má být použit při vykreslování textu na obrázek.\n",
    "- **math:**\n",
    "Tato knihovna poskytuje matematické funkce. Ve vašem kódu se používá k výpočtu indexu znaku na základě jasu pixelu.\n",
    "- **svgwrite:**\n",
    "Jedná se o knihovnu pro generování SVG (Scalable Vector Graphics) v Pythonu. Ve vašem kódu je použita k vytvoření výsledného SVG souboru, který obsahuje textové znaky v závislosti na jasu pixelů."
   ]
  },
  {
   "cell_type": "code",
   "execution_count": 174,
   "metadata": {},
   "outputs": [],
   "source": [
    "from PIL import Image, ImageDraw, ImageFont\n",
    "import math\n",
    "import svgwrite"
   ]
  },
  {
   "cell_type": "markdown",
   "metadata": {},
   "source": [
    "Seznam znaků, které budou použity pro reprezentaci intenzity šedi (převod na šedou barvu je jednodušší než převod na RGB)\n"
   ]
  },
  {
   "cell_type": "code",
   "execution_count": 175,
   "metadata": {},
   "outputs": [],
   "source": [
    "chars = \"NaČelníSkloPadajíKapkyDěště\"[::-1]"
   ]
  },
  {
   "cell_type": "markdown",
   "metadata": {},
   "source": [
    "Převod řetězce na pole znaků a počtu znaků v seznamu"
   ]
  },
  {
   "cell_type": "code",
   "execution_count": 176,
   "metadata": {},
   "outputs": [],
   "source": [
    "charArray = list(chars)\n",
    "charLength = len(charArray)"
   ]
  },
  {
   "cell_type": "markdown",
   "metadata": {},
   "source": [
    "Nyní je nutné stanovit interval pro trasování intenzity šedi na znaky"
   ]
  },
  {
   "cell_type": "code",
   "execution_count": 177,
   "metadata": {},
   "outputs": [],
   "source": [
    "interval = charLength / 256"
   ]
  },
  {
   "cell_type": "markdown",
   "metadata": {},
   "source": [
    "### Změna velikostí\n",
    "- scaleFactor:\n",
    "Tato proměnná určuje poměr, o který se má zmenšit původní obrázek před jeho zpracováním na textové umění. Ve vašem kódu je nastavena na hodnotu 0.4, což znamená, že vstupní obrázek bude zmenšen na 40 % své původní velikosti před konverzí na text.\n",
    "- oneCharWidth:\n",
    "Tato proměnná určuje šířku jednoho znaku v textovém umění, který bude reprezentovat jeden pixel v původním obrázku. Ve vašem kódu je nastavena na hodnotu 8, což znamená, že každý pixel v obrázku bude reprezentován osmi znaky širokým textem.\n",
    "- oneCharHeight:\n",
    "Tato proměnná určuje výšku jednoho znaku v textovém umění. Ve vašem kódu je nastavena na hodnotu 13, což znamená, že každý pixel v obrázku bude reprezentován třinácti znaky vysokým textem."
   ]
  },
  {
   "cell_type": "code",
   "execution_count": 178,
   "metadata": {},
   "outputs": [],
   "source": [
    "scaleFactor = 0.4\n",
    "oneCharWidth = 8\n",
    "oneCharHeight = 13"
   ]
  },
  {
   "cell_type": "markdown",
   "metadata": {},
   "source": [
    "Získání znaku na základě intenzity šedi"
   ]
  },
  {
   "cell_type": "code",
   "execution_count": 179,
   "metadata": {},
   "outputs": [],
   "source": [
    "def getChar(inputInt):\n",
    "    return charArray[math.floor(inputInt * interval)]"
   ]
  },
  {
   "cell_type": "markdown",
   "metadata": {},
   "source": [
    "### Zdrojový obraz pro celý script\n",
    "- (.png)"
   ]
  },
  {
   "cell_type": "code",
   "execution_count": 180,
   "metadata": {},
   "outputs": [],
   "source": [
    "im = Image.open(\"dog.png\")"
   ]
  },
  {
   "cell_type": "markdown",
   "metadata": {},
   "source": [
    "### Načtení fontu. \n",
    "- Je možné vložit jakýkoliv font, pokud se žádný nevybere a tento kód bude smazán, script bude přesto fungovat."
   ]
  },
  {
   "cell_type": "code",
   "execution_count": 181,
   "metadata": {},
   "outputs": [],
   "source": [
    "\n",
    "fnt = ImageFont.truetype('C:/Windows/Fonts/Arial.ttf', 9)"
   ]
  },
  {
   "cell_type": "markdown",
   "metadata": {},
   "source": [
    "Změna velikosti obrázku"
   ]
  },
  {
   "cell_type": "code",
   "execution_count": 182,
   "metadata": {},
   "outputs": [],
   "source": [
    "\n",
    "width, height = im.size\n",
    "im = im.resize((int(scaleFactor * width), int(scaleFactor * height * (oneCharWidth / oneCharHeight))), Image.NEAREST)\n",
    "width, height = im.size\n",
    "pix = im.load()"
   ]
  },
  {
   "cell_type": "markdown",
   "metadata": {},
   "source": [
    "Vytvoření nového obrazu"
   ]
  },
  {
   "cell_type": "code",
   "execution_count": 183,
   "metadata": {},
   "outputs": [],
   "source": [
    "outputImage = Image.new('RGB', (oneCharWidth * width, oneCharHeight * height), color=(0, 0, 0))\n",
    "d = ImageDraw.Draw(outputImage)"
   ]
  },
  {
   "cell_type": "markdown",
   "metadata": {},
   "source": [
    "Vytvoření SVG souboru"
   ]
  },
  {
   "cell_type": "code",
   "execution_count": 184,
   "metadata": {},
   "outputs": [],
   "source": [
    "\n",
    "svg_output = svgwrite.Drawing(filename='pes_vykres.svg', size=(oneCharWidth * width, oneCharHeight * height))"
   ]
  },
  {
   "cell_type": "markdown",
   "metadata": {},
   "source": [
    "Nyní se prochází každý jednotlivý pixel obrázku pro přípravu nových souborů"
   ]
  },
  {
   "cell_type": "code",
   "execution_count": 185,
   "metadata": {},
   "outputs": [],
   "source": [
    "for i in range(height):\n",
    "    for j in range(width):\n",
    "        r, g, b = pix[j, i]\n",
    "        h = int(r / 3 + g / 3 + b / 3)\n",
    "        pix[j, i] = (h, h, h)\n",
    "        d.text((j * oneCharWidth, i * oneCharHeight), getChar(h), font=fnt, fill=(r, g, b))\n",
    "        svg_output.add(svg_output.text(getChar(h), insert=(j * oneCharWidth, i * oneCharHeight),\n",
    "                                       fill=f'rgb({r}, {g}, {b})', font_size=9, font_family=\"Arial\"))"
   ]
  },
  {
   "cell_type": "markdown",
   "metadata": {},
   "source": [
    "Uložení obrazu + možnost zadat v jaké kvalitě (dpi)"
   ]
  },
  {
   "cell_type": "code",
   "execution_count": 186,
   "metadata": {},
   "outputs": [],
   "source": [
    "outputImage.save('pes_obr.png', dpi=(300, 300))"
   ]
  },
  {
   "cell_type": "markdown",
   "metadata": {},
   "source": [
    "Uložení SVG"
   ]
  },
  {
   "cell_type": "code",
   "execution_count": 187,
   "metadata": {},
   "outputs": [],
   "source": [
    "svg_output.save()"
   ]
  }
 ],
 "metadata": {
  "kernelspec": {
   "display_name": "vyslouzil",
   "language": "python",
   "name": "python3"
  },
  "language_info": {
   "codemirror_mode": {
    "name": "ipython",
    "version": 3
   },
   "file_extension": ".py",
   "mimetype": "text/x-python",
   "name": "python",
   "nbconvert_exporter": "python",
   "pygments_lexer": "ipython3",
   "version": "3.12.2"
  }
 },
 "nbformat": 4,
 "nbformat_minor": 2
}
